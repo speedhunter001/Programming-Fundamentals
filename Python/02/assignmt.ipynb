def factors(x):
    e=[]
    for i in range(1,x+1):
        if x%i==0:
            e.append(i)
    return e
def fun():
    opened=[]
    x=int(input("Enter the number of lockers in a school: "))
    for locker in range(1,x+1):
        
        if not len(factors(locker))%2==0:
            opened.append("Its opened")
    o=len(opened)
    return o
            
